{
 "cells": [
  {
   "cell_type": "code",
   "execution_count": 3,
   "id": "982d8d1b-6b57-4bd3-8663-1dfdcb0aa189",
   "metadata": {},
   "outputs": [],
   "source": [
    "my_dictionary = {\n",
    "    \"name\": \"person 1\",\n",
    "    \"age\": 35,\n",
    "        \"salary\":400}\n",
    "    "
   ]
  },
  {
   "cell_type": "code",
   "execution_count": 4,
   "id": "3a761843-9def-4411-8268-bcdad84fa14c",
   "metadata": {},
   "outputs": [
    {
     "name": "stdout",
     "output_type": "stream",
     "text": [
      "{'name': 'person 1', 'age': 35, 'salary': 400}\n"
     ]
    }
   ],
   "source": [
    "print(my_dictionary)"
   ]
  },
  {
   "cell_type": "code",
   "execution_count": 16,
   "id": "f2a7a4f5-b804-41ac-b424-c28f47e00613",
   "metadata": {},
   "outputs": [],
   "source": [
    "my_dictionary = {\n",
    "    \"name\": [\"Person 1\",\"Person 2\",\"Person 3\",\"Person 4\",\"Person 5\"],\n",
    "    \"age\":[35,100,35,78,67],\n",
    "    \"salary\":[400,500,450,670,890],\n",
    "}"
   ]
  },
  {
   "cell_type": "code",
   "execution_count": 17,
   "id": "381ec3bf-7e46-4de8-8d2b-e71cc6a1fdb1",
   "metadata": {},
   "outputs": [
    {
     "data": {
      "text/plain": [
       "{'name': ['Person 1', 'Person 2', 'Person 3', 'Person 4', 'Person 5'],\n",
       " 'age': [35, 100, 35, 78, 67],\n",
       " 'salary': [400, 500, 450, 670, 890]}"
      ]
     },
     "execution_count": 17,
     "metadata": {},
     "output_type": "execute_result"
    }
   ],
   "source": [
    "my_dictionary"
   ]
  },
  {
   "cell_type": "code",
   "execution_count": 29,
   "id": "7f4701c0-7c22-4f9b-8a88-649ad21dad23",
   "metadata": {},
   "outputs": [],
   "source": [
    " my_dictionary[\"location\"] = ['ksm','nks','kisii','msa','eld']"
   ]
  },
  {
   "cell_type": "code",
   "execution_count": 20,
   "id": "9298bd91-edbe-468e-8a87-f968cbe72e19",
   "metadata": {},
   "outputs": [
    {
     "data": {
      "text/plain": [
       "{'name': ['Person 1', 'Person 2', 'Person 3', 'Person 4', 'Person 5'],\n",
       " 'age': [35, 100, 35, 78, 67],\n",
       " 'salary': [400, 500, 450, 670, 890],\n",
       " 'location': ['ksm', 'nks', 'kisii', 'msa', 'eld']}"
      ]
     },
     "execution_count": 20,
     "metadata": {},
     "output_type": "execute_result"
    }
   ],
   "source": [
    "my_dictionary "
   ]
  },
  {
   "cell_type": "code",
   "execution_count": 23,
   "id": "028497b1-4b33-468b-897a-ae40ba637f86",
   "metadata": {},
   "outputs": [
    {
     "name": "stdout",
     "output_type": "stream",
     "text": [
      "name ['Person 1', 'Person 2', 'Person 3', 'Person 4', 'Person 5']\n",
      "age [35, 100, 35, 78, 67]\n",
      "salary [400, 500, 450, 670, 890]\n",
      "location ['ksm', 'nks', 'kisii', 'msa', 'eld']\n"
     ]
    }
   ],
   "source": [
    "for key, value in my_dictionary.items():\n",
    "    print(key, value)"
   ]
  },
  {
   "cell_type": "code",
   "execution_count": 24,
   "id": "86e29fae-2b0d-44ce-97fc-140555bb5ccb",
   "metadata": {},
   "outputs": [],
   "source": [
    "import pandas as pd"
   ]
  },
  {
   "cell_type": "code",
   "execution_count": null,
   "id": "7b7003a0-7b15-41f1-ab2a-2a27c84e82a2",
   "metadata": {},
   "outputs": [],
   "source": [
    "my_dictionary"
   ]
  },
  {
   "cell_type": "code",
   "execution_count": 25,
   "id": "1fc18545-8134-4ea8-a9ee-5441bc02e57e",
   "metadata": {},
   "outputs": [
    {
     "data": {
      "text/plain": [
       "{'name': ['Person 1', 'Person 2', 'Person 3', 'Person 4', 'Person 5'],\n",
       " 'age': [35, 100, 35, 78, 67],\n",
       " 'salary': [400, 500, 450, 670, 890]}"
      ]
     },
     "execution_count": 25,
     "metadata": {},
     "output_type": "execute_result"
    }
   ],
   "source": [
    "{'name': ['Person 1', 'Person 2', 'Person 3', 'Person 4', 'Person 5'],\n",
    " 'age': [35, 100, 35, 78, 67],\n",
    " 'salary': [400, 500, 450, 670, 890]}j"
   ]
  },
  {
   "cell_type": "code",
   "execution_count": 26,
   "id": "c196307b-cddf-4d47-a0f4-bbfecd2cdd8e",
   "metadata": {},
   "outputs": [],
   "source": [
    "df = pd.DataFrame(my_dictionary)"
   ]
  },
  {
   "cell_type": "code",
   "execution_count": 27,
   "id": "4208bfa6-b335-4d33-92e4-9972bd959919",
   "metadata": {},
   "outputs": [
    {
     "data": {
      "text/html": [
       "<div>\n",
       "<style scoped>\n",
       "    .dataframe tbody tr th:only-of-type {\n",
       "        vertical-align: middle;\n",
       "    }\n",
       "\n",
       "    .dataframe tbody tr th {\n",
       "        vertical-align: top;\n",
       "    }\n",
       "\n",
       "    .dataframe thead th {\n",
       "        text-align: right;\n",
       "    }\n",
       "</style>\n",
       "<table border=\"1\" class=\"dataframe\">\n",
       "  <thead>\n",
       "    <tr style=\"text-align: right;\">\n",
       "      <th></th>\n",
       "      <th>name</th>\n",
       "      <th>age</th>\n",
       "      <th>salary</th>\n",
       "      <th>location</th>\n",
       "    </tr>\n",
       "  </thead>\n",
       "  <tbody>\n",
       "    <tr>\n",
       "      <th>0</th>\n",
       "      <td>Person 1</td>\n",
       "      <td>35</td>\n",
       "      <td>400</td>\n",
       "      <td>ksm</td>\n",
       "    </tr>\n",
       "    <tr>\n",
       "      <th>1</th>\n",
       "      <td>Person 2</td>\n",
       "      <td>100</td>\n",
       "      <td>500</td>\n",
       "      <td>nks</td>\n",
       "    </tr>\n",
       "    <tr>\n",
       "      <th>2</th>\n",
       "      <td>Person 3</td>\n",
       "      <td>35</td>\n",
       "      <td>450</td>\n",
       "      <td>kisii</td>\n",
       "    </tr>\n",
       "    <tr>\n",
       "      <th>3</th>\n",
       "      <td>Person 4</td>\n",
       "      <td>78</td>\n",
       "      <td>670</td>\n",
       "      <td>msa</td>\n",
       "    </tr>\n",
       "    <tr>\n",
       "      <th>4</th>\n",
       "      <td>Person 5</td>\n",
       "      <td>67</td>\n",
       "      <td>890</td>\n",
       "      <td>eld</td>\n",
       "    </tr>\n",
       "  </tbody>\n",
       "</table>\n",
       "</div>"
      ],
      "text/plain": [
       "       name  age  salary location\n",
       "0  Person 1   35     400      ksm\n",
       "1  Person 2  100     500      nks\n",
       "2  Person 3   35     450    kisii\n",
       "3  Person 4   78     670      msa\n",
       "4  Person 5   67     890      eld"
      ]
     },
     "execution_count": 27,
     "metadata": {},
     "output_type": "execute_result"
    }
   ],
   "source": [
    "df"
   ]
  },
  {
   "cell_type": "code",
   "execution_count": 30,
   "id": "dea9b060-2102-4a18-b96f-98c4e239e103",
   "metadata": {},
   "outputs": [
    {
     "data": {
      "text/plain": [
       "0      ksm\n",
       "1      nks\n",
       "2    kisii\n",
       "3      msa\n",
       "4      eld\n",
       "Name: location, dtype: object"
      ]
     },
     "execution_count": 30,
     "metadata": {},
     "output_type": "execute_result"
    }
   ],
   "source": [
    "df[\"location\"]"
   ]
  },
  {
   "cell_type": "code",
   "execution_count": 31,
   "id": "e8b6d938-85af-4d7b-bbd0-0adda8671442",
   "metadata": {},
   "outputs": [
    {
     "data": {
      "text/html": [
       "<div>\n",
       "<style scoped>\n",
       "    .dataframe tbody tr th:only-of-type {\n",
       "        vertical-align: middle;\n",
       "    }\n",
       "\n",
       "    .dataframe tbody tr th {\n",
       "        vertical-align: top;\n",
       "    }\n",
       "\n",
       "    .dataframe thead th {\n",
       "        text-align: right;\n",
       "    }\n",
       "</style>\n",
       "<table border=\"1\" class=\"dataframe\">\n",
       "  <thead>\n",
       "    <tr style=\"text-align: right;\">\n",
       "      <th></th>\n",
       "      <th>name</th>\n",
       "      <th>age</th>\n",
       "    </tr>\n",
       "  </thead>\n",
       "  <tbody>\n",
       "    <tr>\n",
       "      <th>0</th>\n",
       "      <td>Person 1</td>\n",
       "      <td>35</td>\n",
       "    </tr>\n",
       "    <tr>\n",
       "      <th>1</th>\n",
       "      <td>Person 2</td>\n",
       "      <td>100</td>\n",
       "    </tr>\n",
       "    <tr>\n",
       "      <th>2</th>\n",
       "      <td>Person 3</td>\n",
       "      <td>35</td>\n",
       "    </tr>\n",
       "    <tr>\n",
       "      <th>3</th>\n",
       "      <td>Person 4</td>\n",
       "      <td>78</td>\n",
       "    </tr>\n",
       "    <tr>\n",
       "      <th>4</th>\n",
       "      <td>Person 5</td>\n",
       "      <td>67</td>\n",
       "    </tr>\n",
       "  </tbody>\n",
       "</table>\n",
       "</div>"
      ],
      "text/plain": [
       "       name  age\n",
       "0  Person 1   35\n",
       "1  Person 2  100\n",
       "2  Person 3   35\n",
       "3  Person 4   78\n",
       "4  Person 5   67"
      ]
     },
     "execution_count": 31,
     "metadata": {},
     "output_type": "execute_result"
    }
   ],
   "source": [
    "df[[\"name\",\"age\",]]"
   ]
  },
  {
   "cell_type": "code",
   "execution_count": 33,
   "id": "b5799cd3-3243-42dd-8d5a-3e8e297409af",
   "metadata": {},
   "outputs": [
    {
     "data": {
      "text/plain": [
       "0     35\n",
       "1    100\n",
       "2     35\n",
       "3     78\n",
       "4     67\n",
       "Name: age, dtype: int64"
      ]
     },
     "execution_count": 33,
     "metadata": {},
     "output_type": "execute_result"
    }
   ],
   "source": [
    "df[\"age\"]"
   ]
  },
  {
   "cell_type": "code",
   "execution_count": 34,
   "id": "f2cb6f33-14c0-4a71-aee6-7cf81f9caab0",
   "metadata": {},
   "outputs": [
    {
     "data": {
      "text/plain": [
       "0     36\n",
       "1    101\n",
       "2     36\n",
       "3     79\n",
       "4     68\n",
       "Name: age, dtype: int64"
      ]
     },
     "execution_count": 34,
     "metadata": {},
     "output_type": "execute_result"
    }
   ],
   "source": [
    "df[\"age\"]+1"
   ]
  },
  {
   "cell_type": "code",
   "execution_count": 38,
   "id": "3be451a9-6611-45bb-a3d2-3e1df7c8eb91",
   "metadata": {},
   "outputs": [
    {
     "data": {
      "text/plain": [
       "0     900\n",
       "1    1000\n",
       "2     950\n",
       "3    1170\n",
       "4    1390\n",
       "Name: salary, dtype: int64"
      ]
     },
     "execution_count": 38,
     "metadata": {},
     "output_type": "execute_result"
    }
   ],
   "source": [
    "df['salary']+500"
   ]
  },
  {
   "cell_type": "code",
   "execution_count": 43,
   "id": "14ce8627-d5b6-4a8c-9107-9c9795c54bfd",
   "metadata": {},
   "outputs": [
    {
     "data": {
      "text/html": [
       "<div>\n",
       "<style scoped>\n",
       "    .dataframe tbody tr th:only-of-type {\n",
       "        vertical-align: middle;\n",
       "    }\n",
       "\n",
       "    .dataframe tbody tr th {\n",
       "        vertical-align: top;\n",
       "    }\n",
       "\n",
       "    .dataframe thead th {\n",
       "        text-align: right;\n",
       "    }\n",
       "</style>\n",
       "<table border=\"1\" class=\"dataframe\">\n",
       "  <thead>\n",
       "    <tr style=\"text-align: right;\">\n",
       "      <th></th>\n",
       "      <th>name</th>\n",
       "      <th>age</th>\n",
       "      <th>salary</th>\n",
       "      <th>location</th>\n",
       "    </tr>\n",
       "  </thead>\n",
       "  <tbody>\n",
       "    <tr>\n",
       "      <th>0</th>\n",
       "      <td>Person 1</td>\n",
       "      <td>39</td>\n",
       "      <td>2400</td>\n",
       "      <td>ksm</td>\n",
       "    </tr>\n",
       "    <tr>\n",
       "      <th>1</th>\n",
       "      <td>Person 2</td>\n",
       "      <td>104</td>\n",
       "      <td>2500</td>\n",
       "      <td>nks</td>\n",
       "    </tr>\n",
       "    <tr>\n",
       "      <th>2</th>\n",
       "      <td>Person 3</td>\n",
       "      <td>39</td>\n",
       "      <td>2450</td>\n",
       "      <td>kisii</td>\n",
       "    </tr>\n",
       "    <tr>\n",
       "      <th>3</th>\n",
       "      <td>Person 4</td>\n",
       "      <td>82</td>\n",
       "      <td>2670</td>\n",
       "      <td>msa</td>\n",
       "    </tr>\n",
       "    <tr>\n",
       "      <th>4</th>\n",
       "      <td>Person 5</td>\n",
       "      <td>71</td>\n",
       "      <td>2890</td>\n",
       "      <td>eld</td>\n",
       "    </tr>\n",
       "  </tbody>\n",
       "</table>\n",
       "</div>"
      ],
      "text/plain": [
       "       name  age  salary location\n",
       "0  Person 1   39    2400      ksm\n",
       "1  Person 2  104    2500      nks\n",
       "2  Person 3   39    2450    kisii\n",
       "3  Person 4   82    2670      msa\n",
       "4  Person 5   71    2890      eld"
      ]
     },
     "execution_count": 43,
     "metadata": {},
     "output_type": "execute_result"
    }
   ],
   "source": [
    "df[\"age\"], df['salary'] = df[\"age\"]+1, df['salary']+500\n",
    "df"
   ]
  },
  {
   "cell_type": "code",
   "execution_count": 44,
   "id": "f7a0cf07-25d0-415d-9179-0700553e2d37",
   "metadata": {},
   "outputs": [
    {
     "data": {
      "text/plain": [
       "(0     40\n",
       " 1    105\n",
       " 2     40\n",
       " 3     83\n",
       " 4     72\n",
       " Name: age, dtype: int64,\n",
       " 0    2900\n",
       " 1    3000\n",
       " 2    2950\n",
       " 3    3170\n",
       " 4    3390\n",
       " Name: salary, dtype: int64)"
      ]
     },
     "execution_count": 44,
     "metadata": {},
     "output_type": "execute_result"
    }
   ],
   "source": [
    " df[\"age\"]+1, df['salary']+500"
   ]
  }
 ],
 "metadata": {
  "kernelspec": {
   "display_name": "Python 3 (ipykernel)",
   "language": "python",
   "name": "python3"
  },
  "language_info": {
   "codemirror_mode": {
    "name": "ipython",
    "version": 3
   },
   "file_extension": ".py",
   "mimetype": "text/x-python",
   "name": "python",
   "nbconvert_exporter": "python",
   "pygments_lexer": "ipython3",
   "version": "3.12.4"
  }
 },
 "nbformat": 4,
 "nbformat_minor": 5
}
