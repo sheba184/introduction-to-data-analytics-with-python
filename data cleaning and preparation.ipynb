{
 "cells": [
  {
   "cell_type": "code",
   "execution_count": 1,
   "id": "8c1b79ad-0c13-44e6-8f5a-3790e38c08a9",
   "metadata": {},
   "outputs": [],
   "source": [
    "import pandas as pd"
   ]
  },
  {
   "cell_type": "code",
   "execution_count": 3,
   "id": "717b9390-8845-4c9e-aa2d-8af22ac822c7",
   "metadata": {},
   "outputs": [],
   "source": [
    "filepath = \"data files/edited carsales for cleaning.csv\"\n",
    "df = pd.read_csv(filepath)"
   ]
  },
  {
   "cell_type": "code",
   "execution_count": 4,
   "id": "e306274f-46b7-47dc-af6d-e6faebd58648",
   "metadata": {},
   "outputs": [
    {
     "data": {
      "text/html": [
       "<div>\n",
       "<style scoped>\n",
       "    .dataframe tbody tr th:only-of-type {\n",
       "        vertical-align: middle;\n",
       "    }\n",
       "\n",
       "    .dataframe tbody tr th {\n",
       "        vertical-align: top;\n",
       "    }\n",
       "\n",
       "    .dataframe thead th {\n",
       "        text-align: right;\n",
       "    }\n",
       "</style>\n",
       "<table border=\"1\" class=\"dataframe\">\n",
       "  <thead>\n",
       "    <tr style=\"text-align: right;\">\n",
       "      <th></th>\n",
       "      <th>Manufacturer</th>\n",
       "      <th>Model</th>\n",
       "      <th>Year</th>\n",
       "      <th>Sales</th>\n",
       "      <th>Revenue</th>\n",
       "    </tr>\n",
       "  </thead>\n",
       "  <tbody>\n",
       "    <tr>\n",
       "      <th>18</th>\n",
       "      <td>Nissan</td>\n",
       "      <td>Rogue</td>\n",
       "      <td>2023</td>\n",
       "      <td>2300.0</td>\n",
       "      <td>85000.0</td>\n",
       "    </tr>\n",
       "    <tr>\n",
       "      <th>19</th>\n",
       "      <td>Nissan</td>\n",
       "      <td>Murano</td>\n",
       "      <td>2021</td>\n",
       "      <td>1800.0</td>\n",
       "      <td>NaN</td>\n",
       "    </tr>\n",
       "    <tr>\n",
       "      <th>20</th>\n",
       "      <td>Chevrolet</td>\n",
       "      <td>Tahoe</td>\n",
       "      <td>2022</td>\n",
       "      <td>2200.0</td>\n",
       "      <td>80000.0</td>\n",
       "    </tr>\n",
       "    <tr>\n",
       "      <th>21</th>\n",
       "      <td>Nissan</td>\n",
       "      <td>Rogue</td>\n",
       "      <td>2023</td>\n",
       "      <td>2300.0</td>\n",
       "      <td>85000.0</td>\n",
       "    </tr>\n",
       "    <tr>\n",
       "      <th>22</th>\n",
       "      <td>Nissan</td>\n",
       "      <td>Murano</td>\n",
       "      <td>2021</td>\n",
       "      <td>1800.0</td>\n",
       "      <td>65000.0</td>\n",
       "    </tr>\n",
       "  </tbody>\n",
       "</table>\n",
       "</div>"
      ],
      "text/plain": [
       "   Manufacturer   Model  Year   Sales  Revenue\n",
       "18       Nissan   Rogue  2023  2300.0  85000.0\n",
       "19       Nissan  Murano  2021  1800.0      NaN\n",
       "20    Chevrolet   Tahoe  2022  2200.0  80000.0\n",
       "21       Nissan   Rogue  2023  2300.0  85000.0\n",
       "22       Nissan  Murano  2021  1800.0  65000.0"
      ]
     },
     "execution_count": 4,
     "metadata": {},
     "output_type": "execute_result"
    }
   ],
   "source": [
    "df.tail()"
   ]
  },
  {
   "cell_type": "code",
   "execution_count": 6,
   "id": "56a7daaf-d213-43ef-b0de-8fe46a5d4e7e",
   "metadata": {},
   "outputs": [
    {
     "data": {
      "text/plain": [
       "Manufacturer    1\n",
       "Model           0\n",
       "Year            0\n",
       "Sales           1\n",
       "Revenue         2\n",
       "dtype: int64"
      ]
     },
     "execution_count": 6,
     "metadata": {},
     "output_type": "execute_result"
    }
   ],
   "source": [
    "df.isnull().sum()"
   ]
  },
  {
   "cell_type": "code",
   "execution_count": 7,
   "id": "36beca0d-97b6-454a-a03d-98e97235616c",
   "metadata": {},
   "outputs": [
    {
     "data": {
      "text/html": [
       "<div>\n",
       "<style scoped>\n",
       "    .dataframe tbody tr th:only-of-type {\n",
       "        vertical-align: middle;\n",
       "    }\n",
       "\n",
       "    .dataframe tbody tr th {\n",
       "        vertical-align: top;\n",
       "    }\n",
       "\n",
       "    .dataframe thead th {\n",
       "        text-align: right;\n",
       "    }\n",
       "</style>\n",
       "<table border=\"1\" class=\"dataframe\">\n",
       "  <thead>\n",
       "    <tr style=\"text-align: right;\">\n",
       "      <th></th>\n",
       "      <th>Manufacturer</th>\n",
       "      <th>Model</th>\n",
       "      <th>Year</th>\n",
       "      <th>Sales</th>\n",
       "      <th>Revenue</th>\n",
       "    </tr>\n",
       "  </thead>\n",
       "  <tbody>\n",
       "    <tr>\n",
       "      <th>4</th>\n",
       "      <td>Ford</td>\n",
       "      <td>Mustang</td>\n",
       "      <td>2023</td>\n",
       "      <td>2200.0</td>\n",
       "      <td>NaN</td>\n",
       "    </tr>\n",
       "    <tr>\n",
       "      <th>7</th>\n",
       "      <td>NaN</td>\n",
       "      <td>Malibu</td>\n",
       "      <td>2021</td>\n",
       "      <td>1400.0</td>\n",
       "      <td>50000.0</td>\n",
       "    </tr>\n",
       "    <tr>\n",
       "      <th>9</th>\n",
       "      <td>Nissan</td>\n",
       "      <td>Sentra</td>\n",
       "      <td>2023</td>\n",
       "      <td>NaN</td>\n",
       "      <td>85000.0</td>\n",
       "    </tr>\n",
       "    <tr>\n",
       "      <th>19</th>\n",
       "      <td>Nissan</td>\n",
       "      <td>Murano</td>\n",
       "      <td>2021</td>\n",
       "      <td>1800.0</td>\n",
       "      <td>NaN</td>\n",
       "    </tr>\n",
       "  </tbody>\n",
       "</table>\n",
       "</div>"
      ],
      "text/plain": [
       "   Manufacturer    Model  Year   Sales  Revenue\n",
       "4          Ford  Mustang  2023  2200.0      NaN\n",
       "7           NaN   Malibu  2021  1400.0  50000.0\n",
       "9        Nissan   Sentra  2023     NaN  85000.0\n",
       "19       Nissan   Murano  2021  1800.0      NaN"
      ]
     },
     "execution_count": 7,
     "metadata": {},
     "output_type": "execute_result"
    }
   ],
   "source": [
    "df[df.isnull().any(axis=1)]"
   ]
  },
  {
   "cell_type": "code",
   "execution_count": 9,
   "id": "6b8632a9-bf81-474a-b727-25e26e57cb85",
   "metadata": {},
   "outputs": [],
   "source": [
    "df.fillna(value={'Manufacturer':'Unknown'},inplace=True)"
   ]
  },
  {
   "cell_type": "code",
   "execution_count": 10,
   "id": "6c37e15d-30bc-451f-92d9-7c3201034597",
   "metadata": {},
   "outputs": [
    {
     "data": {
      "text/html": [
       "<div>\n",
       "<style scoped>\n",
       "    .dataframe tbody tr th:only-of-type {\n",
       "        vertical-align: middle;\n",
       "    }\n",
       "\n",
       "    .dataframe tbody tr th {\n",
       "        vertical-align: top;\n",
       "    }\n",
       "\n",
       "    .dataframe thead th {\n",
       "        text-align: right;\n",
       "    }\n",
       "</style>\n",
       "<table border=\"1\" class=\"dataframe\">\n",
       "  <thead>\n",
       "    <tr style=\"text-align: right;\">\n",
       "      <th></th>\n",
       "      <th>Manufacturer</th>\n",
       "      <th>Model</th>\n",
       "      <th>Year</th>\n",
       "      <th>Sales</th>\n",
       "      <th>Revenue</th>\n",
       "    </tr>\n",
       "  </thead>\n",
       "  <tbody>\n",
       "    <tr>\n",
       "      <th>0</th>\n",
       "      <td>Toyota</td>\n",
       "      <td>Corolla</td>\n",
       "      <td>2021</td>\n",
       "      <td>1500.0</td>\n",
       "      <td>50000.0</td>\n",
       "    </tr>\n",
       "    <tr>\n",
       "      <th>1</th>\n",
       "      <td>Toyota</td>\n",
       "      <td>Camry</td>\n",
       "      <td>2022</td>\n",
       "      <td>2000.0</td>\n",
       "      <td>70000.0</td>\n",
       "    </tr>\n",
       "    <tr>\n",
       "      <th>2</th>\n",
       "      <td>Honda</td>\n",
       "      <td>Civic</td>\n",
       "      <td>2022</td>\n",
       "      <td>1800.0</td>\n",
       "      <td>60000.0</td>\n",
       "    </tr>\n",
       "    <tr>\n",
       "      <th>3</th>\n",
       "      <td>Honda</td>\n",
       "      <td>Accord</td>\n",
       "      <td>2021</td>\n",
       "      <td>1700.0</td>\n",
       "      <td>65000.0</td>\n",
       "    </tr>\n",
       "    <tr>\n",
       "      <th>4</th>\n",
       "      <td>Ford</td>\n",
       "      <td>Mustang</td>\n",
       "      <td>2023</td>\n",
       "      <td>2200.0</td>\n",
       "      <td>NaN</td>\n",
       "    </tr>\n",
       "    <tr>\n",
       "      <th>5</th>\n",
       "      <td>Ford</td>\n",
       "      <td>Fusion</td>\n",
       "      <td>2021</td>\n",
       "      <td>1600.0</td>\n",
       "      <td>55000.0</td>\n",
       "    </tr>\n",
       "    <tr>\n",
       "      <th>6</th>\n",
       "      <td>Chevrolet</td>\n",
       "      <td>Silverado</td>\n",
       "      <td>2022</td>\n",
       "      <td>1900.0</td>\n",
       "      <td>75000.0</td>\n",
       "    </tr>\n",
       "    <tr>\n",
       "      <th>7</th>\n",
       "      <td>Unknown</td>\n",
       "      <td>Malibu</td>\n",
       "      <td>2021</td>\n",
       "      <td>1400.0</td>\n",
       "      <td>50000.0</td>\n",
       "    </tr>\n",
       "    <tr>\n",
       "      <th>8</th>\n",
       "      <td>Nissan</td>\n",
       "      <td>Altima</td>\n",
       "      <td>2022</td>\n",
       "      <td>2100.0</td>\n",
       "      <td>70000.0</td>\n",
       "    </tr>\n",
       "    <tr>\n",
       "      <th>9</th>\n",
       "      <td>Nissan</td>\n",
       "      <td>Sentra</td>\n",
       "      <td>2023</td>\n",
       "      <td>NaN</td>\n",
       "      <td>85000.0</td>\n",
       "    </tr>\n",
       "  </tbody>\n",
       "</table>\n",
       "</div>"
      ],
      "text/plain": [
       "  Manufacturer      Model  Year   Sales  Revenue\n",
       "0       Toyota    Corolla  2021  1500.0  50000.0\n",
       "1       Toyota      Camry  2022  2000.0  70000.0\n",
       "2        Honda      Civic  2022  1800.0  60000.0\n",
       "3        Honda     Accord  2021  1700.0  65000.0\n",
       "4         Ford    Mustang  2023  2200.0      NaN\n",
       "5         Ford     Fusion  2021  1600.0  55000.0\n",
       "6    Chevrolet  Silverado  2022  1900.0  75000.0\n",
       "7      Unknown     Malibu  2021  1400.0  50000.0\n",
       "8       Nissan     Altima  2022  2100.0  70000.0\n",
       "9       Nissan     Sentra  2023     NaN  85000.0"
      ]
     },
     "execution_count": 10,
     "metadata": {},
     "output_type": "execute_result"
    }
   ],
   "source": [
    "df.head(10)"
   ]
  },
  {
   "cell_type": "code",
   "execution_count": 12,
   "id": "fc88f117-be96-4fdb-a800-606ab88c2d79",
   "metadata": {},
   "outputs": [],
   "source": [
    "average = df['Sales'].mean()\n",
    "df.fillna(value={'Sales':average},inplace=True)"
   ]
  },
  {
   "cell_type": "markdown",
   "id": "fbcfb614-2c54-464a-bc8f-d60a755a7fc8",
   "metadata": {},
   "source": [
    "# df.head(10)"
   ]
  },
  {
   "cell_type": "code",
   "execution_count": 14,
   "id": "e374fb27-bb82-4abd-b957-818ef438fcfc",
   "metadata": {},
   "outputs": [],
   "source": [
    "df.dropna(inplace=True)"
   ]
  },
  {
   "cell_type": "code",
   "execution_count": 15,
   "id": "1f24d5dd-981a-41bf-8ae5-0729856d069f",
   "metadata": {},
   "outputs": [
    {
     "data": {
      "text/html": [
       "<div>\n",
       "<style scoped>\n",
       "    .dataframe tbody tr th:only-of-type {\n",
       "        vertical-align: middle;\n",
       "    }\n",
       "\n",
       "    .dataframe tbody tr th {\n",
       "        vertical-align: top;\n",
       "    }\n",
       "\n",
       "    .dataframe thead th {\n",
       "        text-align: right;\n",
       "    }\n",
       "</style>\n",
       "<table border=\"1\" class=\"dataframe\">\n",
       "  <thead>\n",
       "    <tr style=\"text-align: right;\">\n",
       "      <th></th>\n",
       "      <th>Manufacturer</th>\n",
       "      <th>Model</th>\n",
       "      <th>Year</th>\n",
       "      <th>Sales</th>\n",
       "      <th>Revenue</th>\n",
       "    </tr>\n",
       "  </thead>\n",
       "  <tbody>\n",
       "    <tr>\n",
       "      <th>0</th>\n",
       "      <td>Toyota</td>\n",
       "      <td>Corolla</td>\n",
       "      <td>2021</td>\n",
       "      <td>1500.0</td>\n",
       "      <td>50000.0</td>\n",
       "    </tr>\n",
       "    <tr>\n",
       "      <th>1</th>\n",
       "      <td>Toyota</td>\n",
       "      <td>Camry</td>\n",
       "      <td>2022</td>\n",
       "      <td>2000.0</td>\n",
       "      <td>70000.0</td>\n",
       "    </tr>\n",
       "    <tr>\n",
       "      <th>2</th>\n",
       "      <td>Honda</td>\n",
       "      <td>Civic</td>\n",
       "      <td>2022</td>\n",
       "      <td>1800.0</td>\n",
       "      <td>60000.0</td>\n",
       "    </tr>\n",
       "    <tr>\n",
       "      <th>3</th>\n",
       "      <td>Honda</td>\n",
       "      <td>Accord</td>\n",
       "      <td>2021</td>\n",
       "      <td>1700.0</td>\n",
       "      <td>65000.0</td>\n",
       "    </tr>\n",
       "    <tr>\n",
       "      <th>5</th>\n",
       "      <td>Ford</td>\n",
       "      <td>Fusion</td>\n",
       "      <td>2021</td>\n",
       "      <td>1600.0</td>\n",
       "      <td>55000.0</td>\n",
       "    </tr>\n",
       "    <tr>\n",
       "      <th>6</th>\n",
       "      <td>Chevrolet</td>\n",
       "      <td>Silverado</td>\n",
       "      <td>2022</td>\n",
       "      <td>1900.0</td>\n",
       "      <td>75000.0</td>\n",
       "    </tr>\n",
       "    <tr>\n",
       "      <th>7</th>\n",
       "      <td>Unknown</td>\n",
       "      <td>Malibu</td>\n",
       "      <td>2021</td>\n",
       "      <td>1400.0</td>\n",
       "      <td>50000.0</td>\n",
       "    </tr>\n",
       "    <tr>\n",
       "      <th>8</th>\n",
       "      <td>Nissan</td>\n",
       "      <td>Altima</td>\n",
       "      <td>2022</td>\n",
       "      <td>2100.0</td>\n",
       "      <td>70000.0</td>\n",
       "    </tr>\n",
       "    <tr>\n",
       "      <th>9</th>\n",
       "      <td>Nissan</td>\n",
       "      <td>Sentra</td>\n",
       "      <td>2023</td>\n",
       "      <td>1900.0</td>\n",
       "      <td>85000.0</td>\n",
       "    </tr>\n",
       "    <tr>\n",
       "      <th>10</th>\n",
       "      <td>Toyota</td>\n",
       "      <td>Prius</td>\n",
       "      <td>2021</td>\n",
       "      <td>1600.0</td>\n",
       "      <td>60000.0</td>\n",
       "    </tr>\n",
       "  </tbody>\n",
       "</table>\n",
       "</div>"
      ],
      "text/plain": [
       "   Manufacturer      Model  Year   Sales  Revenue\n",
       "0        Toyota    Corolla  2021  1500.0  50000.0\n",
       "1        Toyota      Camry  2022  2000.0  70000.0\n",
       "2         Honda      Civic  2022  1800.0  60000.0\n",
       "3         Honda     Accord  2021  1700.0  65000.0\n",
       "5          Ford     Fusion  2021  1600.0  55000.0\n",
       "6     Chevrolet  Silverado  2022  1900.0  75000.0\n",
       "7       Unknown     Malibu  2021  1400.0  50000.0\n",
       "8        Nissan     Altima  2022  2100.0  70000.0\n",
       "9        Nissan     Sentra  2023  1900.0  85000.0\n",
       "10       Toyota      Prius  2021  1600.0  60000.0"
      ]
     },
     "execution_count": 15,
     "metadata": {},
     "output_type": "execute_result"
    }
   ],
   "source": [
    "df.head(10)"
   ]
  },
  {
   "cell_type": "code",
   "execution_count": 16,
   "id": "8446af61-3c8a-4b90-8acb-9bd3603e67da",
   "metadata": {},
   "outputs": [],
   "source": [
    "df.drop_duplicates(inplace=True)"
   ]
  },
  {
   "cell_type": "code",
   "execution_count": 17,
   "id": "dfa28b46-96b6-4ea2-bb33-76714c0e25d5",
   "metadata": {},
   "outputs": [
    {
     "data": {
      "text/html": [
       "<div>\n",
       "<style scoped>\n",
       "    .dataframe tbody tr th:only-of-type {\n",
       "        vertical-align: middle;\n",
       "    }\n",
       "\n",
       "    .dataframe tbody tr th {\n",
       "        vertical-align: top;\n",
       "    }\n",
       "\n",
       "    .dataframe thead th {\n",
       "        text-align: right;\n",
       "    }\n",
       "</style>\n",
       "<table border=\"1\" class=\"dataframe\">\n",
       "  <thead>\n",
       "    <tr style=\"text-align: right;\">\n",
       "      <th></th>\n",
       "      <th>Manufacturer</th>\n",
       "      <th>Model</th>\n",
       "      <th>Year</th>\n",
       "      <th>Sales</th>\n",
       "      <th>Revenue</th>\n",
       "    </tr>\n",
       "  </thead>\n",
       "  <tbody>\n",
       "    <tr>\n",
       "      <th>15</th>\n",
       "      <td>Ford</td>\n",
       "      <td>Escape</td>\n",
       "      <td>2023</td>\n",
       "      <td>2100.0</td>\n",
       "      <td>75000.0</td>\n",
       "    </tr>\n",
       "    <tr>\n",
       "      <th>16</th>\n",
       "      <td>Chevrolet</td>\n",
       "      <td>Equinox</td>\n",
       "      <td>2021</td>\n",
       "      <td>1700.0</td>\n",
       "      <td>60000.0</td>\n",
       "    </tr>\n",
       "    <tr>\n",
       "      <th>17</th>\n",
       "      <td>Chevrolet</td>\n",
       "      <td>Tahoe</td>\n",
       "      <td>2022</td>\n",
       "      <td>2200.0</td>\n",
       "      <td>80000.0</td>\n",
       "    </tr>\n",
       "    <tr>\n",
       "      <th>18</th>\n",
       "      <td>Nissan</td>\n",
       "      <td>Rogue</td>\n",
       "      <td>2023</td>\n",
       "      <td>2300.0</td>\n",
       "      <td>85000.0</td>\n",
       "    </tr>\n",
       "    <tr>\n",
       "      <th>22</th>\n",
       "      <td>Nissan</td>\n",
       "      <td>Murano</td>\n",
       "      <td>2021</td>\n",
       "      <td>1800.0</td>\n",
       "      <td>65000.0</td>\n",
       "    </tr>\n",
       "  </tbody>\n",
       "</table>\n",
       "</div>"
      ],
      "text/plain": [
       "   Manufacturer    Model  Year   Sales  Revenue\n",
       "15         Ford   Escape  2023  2100.0  75000.0\n",
       "16    Chevrolet  Equinox  2021  1700.0  60000.0\n",
       "17    Chevrolet    Tahoe  2022  2200.0  80000.0\n",
       "18       Nissan    Rogue  2023  2300.0  85000.0\n",
       "22       Nissan   Murano  2021  1800.0  65000.0"
      ]
     },
     "execution_count": 17,
     "metadata": {},
     "output_type": "execute_result"
    }
   ],
   "source": [
    "df.tail()"
   ]
  },
  {
   "cell_type": "code",
   "execution_count": 18,
   "id": "edb133b7-916b-4e7e-811c-5785ed646c36",
   "metadata": {},
   "outputs": [
    {
     "data": {
      "text/plain": [
       "0"
      ]
     },
     "execution_count": 18,
     "metadata": {},
     "output_type": "execute_result"
    }
   ],
   "source": [
    "df.duplicated().sum()"
   ]
  },
  {
   "cell_type": "code",
   "execution_count": 19,
   "id": "6aea5bbf-a22c-4876-837f-54f271caebb9",
   "metadata": {},
   "outputs": [
    {
     "data": {
      "text/plain": [
       "Manufacturer     object\n",
       "Model            object\n",
       "Year              int64\n",
       "Sales           float64\n",
       "Revenue         float64\n",
       "dtype: object"
      ]
     },
     "execution_count": 19,
     "metadata": {},
     "output_type": "execute_result"
    }
   ],
   "source": [
    "df.dtypes"
   ]
  },
  {
   "cell_type": "code",
   "execution_count": 20,
   "id": "d03abdf2-bacf-4228-a123-e32fe9df72ee",
   "metadata": {},
   "outputs": [],
   "source": [
    "new_df = pd.DataFrame({\"name\":[\"Alice\",\"Bob\",\"Alice\"],\"age\":[25,30,25]})"
   ]
  },
  {
   "cell_type": "code",
   "execution_count": 21,
   "id": "9919d554-358c-4197-88a4-fd12b64d30ef",
   "metadata": {},
   "outputs": [
    {
     "data": {
      "text/html": [
       "<div>\n",
       "<style scoped>\n",
       "    .dataframe tbody tr th:only-of-type {\n",
       "        vertical-align: middle;\n",
       "    }\n",
       "\n",
       "    .dataframe tbody tr th {\n",
       "        vertical-align: top;\n",
       "    }\n",
       "\n",
       "    .dataframe thead th {\n",
       "        text-align: right;\n",
       "    }\n",
       "</style>\n",
       "<table border=\"1\" class=\"dataframe\">\n",
       "  <thead>\n",
       "    <tr style=\"text-align: right;\">\n",
       "      <th></th>\n",
       "      <th>name</th>\n",
       "      <th>age</th>\n",
       "    </tr>\n",
       "  </thead>\n",
       "  <tbody>\n",
       "    <tr>\n",
       "      <th>0</th>\n",
       "      <td>Alice</td>\n",
       "      <td>25</td>\n",
       "    </tr>\n",
       "    <tr>\n",
       "      <th>1</th>\n",
       "      <td>Bob</td>\n",
       "      <td>30</td>\n",
       "    </tr>\n",
       "    <tr>\n",
       "      <th>2</th>\n",
       "      <td>Alice</td>\n",
       "      <td>25</td>\n",
       "    </tr>\n",
       "  </tbody>\n",
       "</table>\n",
       "</div>"
      ],
      "text/plain": [
       "    name  age\n",
       "0  Alice   25\n",
       "1    Bob   30\n",
       "2  Alice   25"
      ]
     },
     "execution_count": 21,
     "metadata": {},
     "output_type": "execute_result"
    }
   ],
   "source": [
    "new_df"
   ]
  },
  {
   "cell_type": "code",
   "execution_count": 23,
   "id": "16b5ccc9-da9e-43a6-8ab1-a22fdeb86b16",
   "metadata": {},
   "outputs": [
    {
     "data": {
      "text/html": [
       "<div>\n",
       "<style scoped>\n",
       "    .dataframe tbody tr th:only-of-type {\n",
       "        vertical-align: middle;\n",
       "    }\n",
       "\n",
       "    .dataframe tbody tr th {\n",
       "        vertical-align: top;\n",
       "    }\n",
       "\n",
       "    .dataframe thead th {\n",
       "        text-align: right;\n",
       "    }\n",
       "</style>\n",
       "<table border=\"1\" class=\"dataframe\">\n",
       "  <thead>\n",
       "    <tr style=\"text-align: right;\">\n",
       "      <th></th>\n",
       "      <th>name</th>\n",
       "      <th>age</th>\n",
       "    </tr>\n",
       "  </thead>\n",
       "  <tbody>\n",
       "    <tr>\n",
       "      <th>0</th>\n",
       "      <td>Alice</td>\n",
       "      <td>25.0</td>\n",
       "    </tr>\n",
       "    <tr>\n",
       "      <th>1</th>\n",
       "      <td>Bob</td>\n",
       "      <td>30.0</td>\n",
       "    </tr>\n",
       "    <tr>\n",
       "      <th>2</th>\n",
       "      <td>Alice</td>\n",
       "      <td>25.0</td>\n",
       "    </tr>\n",
       "  </tbody>\n",
       "</table>\n",
       "</div>"
      ],
      "text/plain": [
       "    name   age\n",
       "0  Alice  25.0\n",
       "1    Bob  30.0\n",
       "2  Alice  25.0"
      ]
     },
     "execution_count": 23,
     "metadata": {},
     "output_type": "execute_result"
    }
   ],
   "source": [
    "new_df['age'] = new_df['age'].astype(float)\n",
    "new_df"
   ]
  },
  {
   "cell_type": "code",
   "execution_count": 24,
   "id": "e01ecf24-2abd-4519-af6c-e17e60feeadd",
   "metadata": {},
   "outputs": [
    {
     "data": {
      "text/html": [
       "<div>\n",
       "<style scoped>\n",
       "    .dataframe tbody tr th:only-of-type {\n",
       "        vertical-align: middle;\n",
       "    }\n",
       "\n",
       "    .dataframe tbody tr th {\n",
       "        vertical-align: top;\n",
       "    }\n",
       "\n",
       "    .dataframe thead th {\n",
       "        text-align: right;\n",
       "    }\n",
       "</style>\n",
       "<table border=\"1\" class=\"dataframe\">\n",
       "  <thead>\n",
       "    <tr style=\"text-align: right;\">\n",
       "      <th></th>\n",
       "      <th>Manufacturer</th>\n",
       "      <th>Model</th>\n",
       "      <th>Year</th>\n",
       "      <th>Sales</th>\n",
       "      <th>Revenue</th>\n",
       "    </tr>\n",
       "  </thead>\n",
       "  <tbody>\n",
       "    <tr>\n",
       "      <th>0</th>\n",
       "      <td>Toyota</td>\n",
       "      <td>Corolla</td>\n",
       "      <td>2021</td>\n",
       "      <td>1500.0</td>\n",
       "      <td>50000.0</td>\n",
       "    </tr>\n",
       "    <tr>\n",
       "      <th>1</th>\n",
       "      <td>Toyota</td>\n",
       "      <td>Camry</td>\n",
       "      <td>2022</td>\n",
       "      <td>2000.0</td>\n",
       "      <td>70000.0</td>\n",
       "    </tr>\n",
       "    <tr>\n",
       "      <th>2</th>\n",
       "      <td>Honda</td>\n",
       "      <td>Civic</td>\n",
       "      <td>2022</td>\n",
       "      <td>1800.0</td>\n",
       "      <td>60000.0</td>\n",
       "    </tr>\n",
       "    <tr>\n",
       "      <th>3</th>\n",
       "      <td>Honda</td>\n",
       "      <td>Accord</td>\n",
       "      <td>2021</td>\n",
       "      <td>1700.0</td>\n",
       "      <td>65000.0</td>\n",
       "    </tr>\n",
       "    <tr>\n",
       "      <th>5</th>\n",
       "      <td>Ford</td>\n",
       "      <td>Fusion</td>\n",
       "      <td>2021</td>\n",
       "      <td>1600.0</td>\n",
       "      <td>55000.0</td>\n",
       "    </tr>\n",
       "  </tbody>\n",
       "</table>\n",
       "</div>"
      ],
      "text/plain": [
       "  Manufacturer    Model  Year   Sales  Revenue\n",
       "0       Toyota  Corolla  2021  1500.0  50000.0\n",
       "1       Toyota    Camry  2022  2000.0  70000.0\n",
       "2        Honda    Civic  2022  1800.0  60000.0\n",
       "3        Honda   Accord  2021  1700.0  65000.0\n",
       "5         Ford   Fusion  2021  1600.0  55000.0"
      ]
     },
     "execution_count": 24,
     "metadata": {},
     "output_type": "execute_result"
    }
   ],
   "source": [
    "df.head()"
   ]
  },
  {
   "cell_type": "code",
   "execution_count": 28,
   "id": "ae5baa16-8dfb-4757-a7e7-aa0464e1ea4d",
   "metadata": {},
   "outputs": [
    {
     "name": "stdout",
     "output_type": "stream",
     "text": [
      "1650.0 2050.0 400.0\n"
     ]
    }
   ],
   "source": [
    "q1 = df[\"Sales\"].quantile(0.25)\n",
    "q3 = df[\"Sales\"].quantile(0.75)\n",
    "iqr = q3-q1\n",
    "print(q1, q3, iqr)\n"
   ]
  },
  {
   "cell_type": "code",
   "execution_count": 29,
   "id": "05f539ce-d9ca-41df-aebc-2204f4bd2f57",
   "metadata": {},
   "outputs": [],
   "source": [
    "lower_bond=q1-1.5*iqr"
   ]
  },
  {
   "cell_type": "code",
   "execution_count": 30,
   "id": "f3610c23-e37b-468b-951e-f1891ce517e5",
   "metadata": {},
   "outputs": [],
   "source": [
    "upper_bond=q3+1.5*iqr"
   ]
  },
  {
   "cell_type": "code",
   "execution_count": 31,
   "id": "e98c4bda-f8fa-4dc1-b152-6546d795d0c4",
   "metadata": {},
   "outputs": [
    {
     "data": {
      "text/plain": [
       "2650.0"
      ]
     },
     "execution_count": 31,
     "metadata": {},
     "output_type": "execute_result"
    }
   ],
   "source": [
    "upper_bond"
   ]
  },
  {
   "cell_type": "code",
   "execution_count": 35,
   "id": "9b51742f-4652-4084-b58c-9b533c76c2e0",
   "metadata": {},
   "outputs": [
    {
     "name": "stdout",
     "output_type": "stream",
     "text": [
      "All Sales\n",
      " [1500. 2000. 1800. 1700. 1600. 1900. 1400. 2100. 1900. 1600. 1900. 2200.\n",
      " 1500. 2000. 2100. 1700. 2200. 2300. 1800.]\n",
      "Sales after removing outliers\n",
      " [1500. 2000. 1800. 1700. 1600. 1900. 1400. 2100. 1900. 1600. 1900. 2200.\n",
      " 1500. 2000. 2100. 1700. 2200. 2300. 1800.]\n"
     ]
    }
   ],
   "source": [
    "required = df[(df[\"Sales\"] >= lower_bond) & (df[\"Sales\"] <= upper_bond)]\n",
    "print(\"All Sales\\n\",df[\"Sales\"].values)\n",
    "print(\"Sales after removing outliers\\n\",required[\"Sales\"].values)"
   ]
  },
  {
   "cell_type": "code",
   "execution_count": null,
   "id": "ed98469f-2cee-4a6f-bf96-f571da82d08a",
   "metadata": {},
   "outputs": [],
   "source": [
    "df.to_csv(DataFiles/"
   ]
  }
 ],
 "metadata": {
  "kernelspec": {
   "display_name": "Python 3 (ipykernel)",
   "language": "python",
   "name": "python3"
  },
  "language_info": {
   "codemirror_mode": {
    "name": "ipython",
    "version": 3
   },
   "file_extension": ".py",
   "mimetype": "text/x-python",
   "name": "python",
   "nbconvert_exporter": "python",
   "pygments_lexer": "ipython3",
   "version": "3.12.4"
  }
 },
 "nbformat": 4,
 "nbformat_minor": 5
}
