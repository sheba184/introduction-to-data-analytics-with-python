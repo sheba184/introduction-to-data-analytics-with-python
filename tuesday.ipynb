{
 "cells": [
  {
   "cell_type": "code",
   "execution_count": 16,
   "id": "6e211cae-a24c-4237-8258-1f6460d55615",
   "metadata": {},
   "outputs": [
    {
     "data": {
      "text/plain": [
       "100"
      ]
     },
     "execution_count": 16,
     "metadata": {},
     "output_type": "execute_result"
    }
   ],
   "source": [
    "max(4,5,100"
   ]
  },
  {
   "cell_type": "code",
   "execution_count": 17,
   "id": "0bbdb3a2-bb6c-4bab-b115-ff0ac7689de6",
   "metadata": {},
   "outputs": [
    {
     "data": {
      "text/plain": [
       "9"
      ]
     },
     "execution_count": 17,
     "metadata": {},
     "output_type": "execute_result"
    }
   ],
   "source": [
    "len(\"Bethsheba"
   ]
  },
  {
   "cell_type": "code",
   "execution_count": 18,
   "id": "5e043b27-129e-4ee3-84ae-134fa7c2f1b3",
   "metadata": {},
   "outputs": [
    {
     "data": {
      "text/plain": [
       "8"
      ]
     },
     "execution_count": 18,
     "metadata": {},
     "output_type": "execute_result"
    }
   ],
   "source": [
    "min(8,34,67)"
   ]
  },
  {
   "cell_type": "raw",
   "id": "9c618ee6-2012-4d33-82b4-6f80152e71a5",
   "metadata": {},
   "source": []
  },
  {
   "cell_type": "code",
   "execution_count": 32,
   "id": "2c459d50-1f4a-425d-a6c0-b5baaaaea73d",
   "metadata": {},
   "outputs": [
    {
     "name": "stdout",
     "output_type": "stream",
     "text": [
      "['tomato', 'kitunguu', 'oranges']\n"
     ]
    }
   ],
   "source": [
    "grocery=[\"tomato\",\"onions\",\"oranges\"]\n",
    "ind=0\n",
    "for item in grocery:\n",
    "    if item == \"onions\":\n",
    "      grocery[ind]=\"kitunguu\"\n",
    "    ind=ind +1\n",
    "print(grocery)"
   ]
  },
  {
   "cell_type": "code",
   "execution_count": 33,
   "id": "be24b491-87dc-437b-8f51-7cfdcf35debc",
   "metadata": {},
   "outputs": [
    {
     "name": "stdout",
     "output_type": "stream",
     "text": [
      "['tomato', 'kitunguu', 'oranges', 'onions']\n"
     ]
    }
   ],
   "source": [
    "grocery.append(\"onions\")\n",
    "print(grocery)"
   ]
  },
  {
   "cell_type": "code",
   "execution_count": null,
   "id": "00ca330b-42f0-4b27-9505-6387fc5d3bf5",
   "metadata": {},
   "outputs": [],
   "source": []
  }
 ],
 "metadata": {
  "kernelspec": {
   "display_name": "Python 3 (ipykernel)",
   "language": "python",
   "name": "python3"
  },
  "language_info": {
   "codemirror_mode": {
    "name": "ipython",
    "version": 3
   },
   "file_extension": ".py",
   "mimetype": "text/x-python",
   "name": "python",
   "nbconvert_exporter": "python",
   "pygments_lexer": "ipython3",
   "version": "3.12.4"
  }
 },
 "nbformat": 4,
 "nbformat_minor": 5
}
