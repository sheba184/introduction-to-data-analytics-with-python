{
 "cells": [
  {
   "cell_type": "code",
   "execution_count": 3,
   "id": "fe01ca94-f0ce-44c6-9961-1bb1c4715955",
   "metadata": {},
   "outputs": [],
   "source": [
    "first = \"Sheba\"\n",
    "second = \"Kwamboka\""
   ]
  },
  {
   "cell_type": "code",
   "execution_count": 7,
   "id": "eb0b956b-6fa7-4c6a-a2f4-de671fa222cb",
   "metadata": {},
   "outputs": [
    {
     "data": {
      "text/plain": [
       "'Sheba Kwamboka'"
      ]
     },
     "execution_count": 7,
     "metadata": {},
     "output_type": "execute_result"
    }
   ],
   "source": [
    "first +\" \"+second"
   ]
  },
  {
   "cell_type": "code",
   "execution_count": 11,
   "id": "23917380-411f-440e-8173-e04dc7b1bf13",
   "metadata": {},
   "outputs": [
    {
     "data": {
      "text/plain": [
       "'Sheba Kwamboka'"
      ]
     },
     "execution_count": 11,
     "metadata": {},
     "output_type": "execute_result"
    }
   ],
   "source": [
    "fullname = first+\" \"+second\n",
    "fullname"
   ]
  },
  {
   "cell_type": "code",
   "execution_count": 19,
   "id": "78e6b089-806d-4464-a388-8d697503b8a3",
   "metadata": {},
   "outputs": [],
   "source": [
    "x = 'Sherly'\n",
    "y = 'Kay'"
   ]
  },
  {
   "cell_type": "code",
   "execution_count": 20,
   "id": "54c8a522-4856-4677-bdf5-fe81084636ed",
   "metadata": {},
   "outputs": [
    {
     "data": {
      "text/plain": [
       "'SherlyKay'"
      ]
     },
     "execution_count": 20,
     "metadata": {},
     "output_type": "execute_result"
    }
   ],
   "source": [
    "x+y"
   ]
  },
  {
   "cell_type": "code",
   "execution_count": 22,
   "id": "0df17532-2cc2-4551-b5c1-4d2707b7c212",
   "metadata": {},
   "outputs": [
    {
     "name": "stdin",
     "output_type": "stream",
     "text": [
      "Enter First name:  anyango\n"
     ]
    }
   ],
   "source": [
    "name = input(\"Enter First name: \")"
   ]
  },
  {
   "cell_type": "code",
   "execution_count": 23,
   "id": "34ac579a-217d-4b8d-af7d-f48f2b18c6df",
   "metadata": {},
   "outputs": [
    {
     "name": "stdout",
     "output_type": "stream",
     "text": [
      "anyango\n"
     ]
    }
   ],
   "source": [
    "print(name)"
   ]
  },
  {
   "cell_type": "code",
   "execution_count": 24,
   "id": "0d2566a2-f39e-4d85-a646-3020e6935a10",
   "metadata": {},
   "outputs": [
    {
     "name": "stdout",
     "output_type": "stream",
     "text": [
      "0\n",
      "1\n",
      "2\n",
      "3\n",
      "4\n",
      "5\n",
      "6\n",
      "7\n",
      "8\n",
      "9\n",
      "10\n"
     ]
    }
   ],
   "source": [
    "for i in range (11):\n",
    "    print(i)"
   ]
  },
  {
   "cell_type": "code",
   "execution_count": 25,
   "id": "68a1eda2-763d-4758-804a-eed90c0a6362",
   "metadata": {},
   "outputs": [
    {
     "name": "stdout",
     "output_type": "stream",
     "text": [
      "S\n",
      "h\n",
      "e\n",
      "b\n",
      "a\n",
      " \n",
      "K\n",
      "w\n",
      "a\n",
      "m\n",
      "b\n",
      "o\n",
      "k\n",
      "a\n"
     ]
    }
   ],
   "source": [
    "for chr in fullname:\n",
    "    print(chr)"
   ]
  },
  {
   "cell_type": "code",
   "execution_count": 26,
   "id": "42c38b22-5a79-4cdc-8223-342be0e31b7b",
   "metadata": {},
   "outputs": [
    {
     "name": "stdout",
     "output_type": "stream",
     "text": [
      "1\n",
      "3\n"
     ]
    }
   ],
   "source": [
    "for i in range (1,5,2):\n",
    "    print(i)"
   ]
  },
  {
   "cell_type": "code",
   "execution_count": 1,
   "id": "dee5427e-757a-4ff4-a452-ab88c0eebcaf",
   "metadata": {},
   "outputs": [
    {
     "name": "stdout",
     "output_type": "stream",
     "text": [
      "1\n",
      "2\n",
      "3\n",
      "4\n",
      "5\n",
      "6\n",
      "7\n",
      "8\n",
      "9\n",
      "10\n"
     ]
    }
   ],
   "source": [
    "#1,2,3,4,5,6,7,8,9,10\n",
    "for x in range(1,11):\n",
    "    print(x)"
   ]
  },
  {
   "cell_type": "code",
   "execution_count": 3,
   "id": "76c6e7da-44b4-449b-ab9e-fa21cefed4cc",
   "metadata": {},
   "outputs": [
    {
     "name": "stdout",
     "output_type": "stream",
     "text": [
      "1,2,3,4,5,6,7,8,9,10,"
     ]
    }
   ],
   "source": [
    "#1,2,3,4,5,6,7,8,9,10\n",
    "for x in range(1,11):\n",
    "    print(x,end=\",\")"
   ]
  },
  {
   "cell_type": "code",
   "execution_count": 5,
   "id": "66868e63-6aa6-49e3-a661-55b3693767fa",
   "metadata": {},
   "outputs": [
    {
     "name": "stdout",
     "output_type": "stream",
     "text": [
      "1,2,3,4,5,6,7,8,9,10,\n",
      " 55\n"
     ]
    }
   ],
   "source": [
    "#1,2,3,4,5,6,7,8,9,10\n",
    "total = 0\n",
    "for x in range(1,11):\n",
    "    total+=x\n",
    "    print(x,end=\",\")\n",
    "\n",
    "print('\\n', total)"
   ]
  },
  {
   "cell_type": "code",
   "execution_count": 6,
   "id": "ae2644ab-e115-44c3-a224-e8ad234ff207",
   "metadata": {},
   "outputs": [
    {
     "name": "stdout",
     "output_type": "stream",
     "text": [
      "1\n",
      "5\n",
      "9\n",
      "13\n",
      "17\n",
      "21\n",
      "25\n",
      "29\n",
      "33\n"
     ]
    }
   ],
   "source": [
    "for x in range (1,36,4):\n",
    "    print(x)"
   ]
  },
  {
   "cell_type": "code",
   "execution_count": 7,
   "id": "342a9f96-5390-4d33-bd9f-f0d0fb889dfc",
   "metadata": {},
   "outputs": [
    {
     "name": "stdin",
     "output_type": "stream",
     "text": [
      "Enter Age:  22\n",
      "Enter Age:  24\n",
      "Enter Age:  50\n",
      "Enter Age:  47\n"
     ]
    },
    {
     "name": "stdout",
     "output_type": "stream",
     "text": [
      "143 35.75\n"
     ]
    }
   ],
   "source": [
    "x=int(input(\"Enter Age: \"))\n",
    "y=int(input(\"Enter Age: \"))\n",
    "z=int(input(\"Enter Age: \"))\n",
    "xy=int(input(\"Enter Age: \"))\n",
    "\n",
    "total = x+y+z+xy\n",
    "average = total/4\n",
    "\n",
    "print(total, average)\n",
    "\n",
    "\n",
    "\n",
    "\n",
    "\n",
    "\n"
   ]
  },
  {
   "cell_type": "code",
   "execution_count": 8,
   "id": "0e11465c-7248-41f2-b1c6-ec8deeeb6b8b",
   "metadata": {},
   "outputs": [
    {
     "name": "stdin",
     "output_type": "stream",
     "text": [
      "Enter Age 22\n"
     ]
    },
    {
     "name": "stdout",
     "output_type": "stream",
     "text": [
      "22,"
     ]
    },
    {
     "name": "stdin",
     "output_type": "stream",
     "text": [
      "Enter Age 24\n"
     ]
    },
    {
     "name": "stdout",
     "output_type": "stream",
     "text": [
      "24,"
     ]
    },
    {
     "name": "stdin",
     "output_type": "stream",
     "text": [
      "Enter Age 50\n"
     ]
    },
    {
     "name": "stdout",
     "output_type": "stream",
     "text": [
      "50,"
     ]
    },
    {
     "name": "stdin",
     "output_type": "stream",
     "text": [
      "Enter Age 47\n"
     ]
    },
    {
     "name": "stdout",
     "output_type": "stream",
     "text": [
      "47,\n",
      " 143 35.75\n"
     ]
    }
   ],
   "source": [
    "total = 0\n",
    "for X in range(4):\n",
    "    x = int(input(\"Enter Age\"))\n",
    "    total +=x\n",
    "    print(x, end=\",\")\n",
    "    \n",
    "print('\\n', total, total/4)"
   ]
  },
  {
   "cell_type": "code",
   "execution_count": 10,
   "id": "80057f6a-ec70-4c04-8b65-806f274d691a",
   "metadata": {},
   "outputs": [
    {
     "name": "stdin",
     "output_type": "stream",
     "text": [
      "Enter Score:  80\n",
      "Enter Score:  82\n",
      "Enter Score:  90\n",
      "Enter Score:  95\n",
      "Enter Score:  76\n"
     ]
    },
    {
     "name": "stdout",
     "output_type": "stream",
     "text": [
      "84.6\n"
     ]
    }
   ],
   "source": [
    "x=int(input(\"Enter Score: \"))\n",
    "y=int(input(\"Enter Score: \"))\n",
    "z=int(input(\"Enter Score: \"))\n",
    "a=int(input(\"Enter Score: \"))\n",
    "xy=int(input(\"Enter Score: \"))\n",
    "       \n",
    "\n",
    "total = x+y+z+a+xy\n",
    "average = total/5\n",
    "\n",
    "print (average)\n"
   ]
  },
  {
   "cell_type": "code",
   "execution_count": 11,
   "id": "8fb4193e-ded4-4d5a-b474-ede7825ad5c5",
   "metadata": {},
   "outputs": [
    {
     "name": "stdin",
     "output_type": "stream",
     "text": [
      "Enter Score 80\n"
     ]
    },
    {
     "name": "stdout",
     "output_type": "stream",
     "text": [
      "80,"
     ]
    },
    {
     "name": "stdin",
     "output_type": "stream",
     "text": [
      "Enter Score 82\n"
     ]
    },
    {
     "name": "stdout",
     "output_type": "stream",
     "text": [
      "82,"
     ]
    },
    {
     "name": "stdin",
     "output_type": "stream",
     "text": [
      "Enter Score 90\n"
     ]
    },
    {
     "name": "stdout",
     "output_type": "stream",
     "text": [
      "90,"
     ]
    },
    {
     "name": "stdin",
     "output_type": "stream",
     "text": [
      "Enter Score 95\n"
     ]
    },
    {
     "name": "stdout",
     "output_type": "stream",
     "text": [
      "95,"
     ]
    },
    {
     "name": "stdin",
     "output_type": "stream",
     "text": [
      "Enter Score 76\n"
     ]
    },
    {
     "name": "stdout",
     "output_type": "stream",
     "text": [
      "76,\n",
      " 16.919999999999998\n"
     ]
    }
   ],
   "source": [
    "total = 0\n",
    "for X in range(5):\n",
    "    x = int(input(\"Enter Score\"))\n",
    "    total +=x\n",
    "    print(x, end=\",\")\n",
    "    \n",
    "print('\\n', average/5)\n"
   ]
  },
  {
   "cell_type": "code",
   "execution_count": 12,
   "id": "721e018b-3423-44e9-ba2c-b640568b0fe3",
   "metadata": {},
   "outputs": [
    {
     "name": "stdin",
     "output_type": "stream",
     "text": [
      "Enter Age 82\n",
      "Enter Age 90\n",
      "Enter Age 95\n",
      "Enter Age 76\n",
      "Enter Age 80\n"
     ]
    },
    {
     "name": "stdout",
     "output_type": "stream",
     "text": [
      "169.2\n"
     ]
    }
   ],
   "source": [
    "count = 0\n",
    "while count < 5:\n",
    "    x = int(input(\"Enter Age\"))\n",
    "    total +=x\n",
    "    count +=1\n",
    "    \n",
    "print(total/count)\n",
    "    "
   ]
  },
  {
   "cell_type": "code",
   "execution_count": null,
   "id": "e49ba9fa-71e0-4c74-bb53-5cb70b7df3be",
   "metadata": {},
   "outputs": [],
   "source": []
  }
 ],
 "metadata": {
  "kernelspec": {
   "display_name": "Python 3 (ipykernel)",
   "language": "python",
   "name": "python3"
  },
  "language_info": {
   "codemirror_mode": {
    "name": "ipython",
    "version": 3
   },
   "file_extension": ".py",
   "mimetype": "text/x-python",
   "name": "python",
   "nbconvert_exporter": "python",
   "pygments_lexer": "ipython3",
   "version": "3.12.4"
  }
 },
 "nbformat": 4,
 "nbformat_minor": 5
}
